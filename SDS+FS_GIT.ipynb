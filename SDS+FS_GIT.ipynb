{
 "cells": [
  {
   "cell_type": "markdown",
   "metadata": {},
   "source": [
    "<p style=\"color:Red\"><font size=\"5\">Stochastic Diffusion Search</font></p>"
   ]
  },
  {
   "cell_type": "markdown",
   "metadata": {},
   "source": [
    "<p ><font size=\"3\">SDS is an agent-based algorithm that can be used in a variety of contexts to solve different problems. We will be using a flavor of SDS to solve the problem of \"curse of dimensionality\" in the datasets. I recommend you to read this intuitive <a href=\"http://www.visiondummy.com/2014/04/curse-dimensionality-affect-classification\">article</a> on curse of  dimensionality and its repercussions</font></p>"
   ]
  },
  {
   "cell_type": "markdown",
   "metadata": {},
   "source": [
    "<p ><font size=\"3\"> The theory behind the algorithm that I coded below is originally published <a href=\"https://dl.acm.org/citation.cfm?id=3079193\">here</a>. However, I made some key improvements to the original algorithm</font></p>"
   ]
  },
  {
   "cell_type": "code",
   "execution_count": 13,
   "metadata": {
    "collapsed": true
   },
   "outputs": [],
   "source": [
    "#importing necessary libraries\n",
    "import numpy as np\n",
    "from sklearn.preprocessing import StandardScaler\n",
    "from sklearn.svm import SVC\n",
    "import pandas as pd\n",
    "from sklearn.model_selection import train_test_split\n",
    "from sklearn.tree import DecisionTreeClassifier\n",
    "from sklearn.linear_model import LogisticRegression\n",
    "from pprint import pprint"
   ]
  },
  {
   "cell_type": "code",
   "execution_count": 4,
   "metadata": {
    "collapsed": true
   },
   "outputs": [],
   "source": [
    "#Creating instances of estimators\n",
    "logReg=LogisticRegression(C=2)\n",
    "decClf=DecisionTreeClassifier(max_depth=5, min_samples_split=4)\n",
    "svc=SVC(C=0.5,gamma=0.5)"
   ]
  },
  {
   "cell_type": "code",
   "execution_count": 5,
   "metadata": {
    "collapsed": true
   },
   "outputs": [],
   "source": [
    "estimators=[svc,logReg,decClf] "
   ]
  },
  {
   "cell_type": "code",
   "execution_count": 10,
   "metadata": {},
   "outputs": [],
   "source": [
    "'''\n",
    "Below function returns an agent, which is hypothesis, and its corresponding binary array.\n",
    "1 indicates inclusion of corresponding feature and 0 indicates exclusion of the feature.\n",
    "lowerLim indicates minimum number of features, whereas; upperLim indicated max no of features to beincluded in an agent.\n",
    "'''\n",
    "def agent(arryX,lowerLim,upperLim):\n",
    "        if lowerLim<0 or upperLim>arryX.shape[1]:\n",
    "            print('recall function with appropriate limits')\n",
    "        else:\n",
    "            randomNoFeatures=np.random.randint(lowerLim,upperLim,size=1)[0] #generating a random number\n",
    "            zeroArry=np.zeros(arryX.shape[1]-randomNoFeatures, dtype='int') #zero array \n",
    "            oneArry=np.ones(randomNoFeatures, dtype='int')   #one array\n",
    "            fArry=np.concatenate((zeroArry,oneArry), axis=0) #concatinating zero and one array\n",
    "            np.random.shuffle(fArry) #shuffling fArray\n",
    "            fIndex=np.where(fArry==1)[0]\n",
    "            agentArry=arryX[:,fIndex] #generating feature subset from origanal dataset\n",
    "            return fArry,agentArry"
   ]
  },
  {
   "cell_type": "code",
   "execution_count": 14,
   "metadata": {},
   "outputs": [
    {
     "name": "stdout",
     "output_type": "stream",
     "text": [
      "array([[ 1,  0, 11,  0, 17,  3, 15,  6,  4, 19],\n",
      "       [12, 12,  2, 19,  8,  2, 12,  4,  9,  2],\n",
      "       [ 1, 11, 13,  5,  2,  7, 14,  0, 19,  8]])\n",
      "array([0, 1, 0, 1, 0, 0, 0, 1, 0, 1])\n",
      "array([[ 0,  0,  6, 19],\n",
      "       [12, 19,  4,  2],\n",
      "       [11,  5,  0,  8]])\n"
     ]
    }
   ],
   "source": [
    "#Example: The agent below has features 1,3,7, and 9 in its hypothesis\n",
    "x=np.random.randint(20, size=(3,10))\n",
    "f1,a1=agent(x,3,6)\n",
    "pprint(x)\n",
    "pprint(f1)\n",
    "pprint(a1)"
   ]
  },
  {
   "cell_type": "code",
   "execution_count": 16,
   "metadata": {
    "collapsed": true
   },
   "outputs": [],
   "source": [
    "'''\n",
    "Below function generates required number of agents that are to be deployed on search space. \n",
    "All the agents and corresponding binary feature array are stored and returned as a list.\n",
    "'''\n",
    "def agentsInitiation(arryX,numAgents,lowerLim,upperLim):\n",
    "        agents=[]\n",
    "        agentFIndex=[]\n",
    "        agentStatus=['active']*numAgents\n",
    "        for i in range(0,numAgents):\n",
    "            fArry,agentArry=agent(arryX,lowerLim,upperLim) #generating a single agent\n",
    "            agentFIndex.append(fArry) #appending its binary feature array to agentFIndex\n",
    "            agents.append(agentArry) #appending the agent to the agents list\n",
    "        return agents,agentFIndex,agentStatus"
   ]
  },
  {
   "cell_type": "code",
   "execution_count": 19,
   "metadata": {},
   "outputs": [
    {
     "name": "stdout",
     "output_type": "stream",
     "text": [
      "[array([0, 0, 0, 0, 1, 1, 0, 0, 0, 1]),\n",
      " array([1, 0, 0, 1, 0, 1, 0, 0, 1, 0]),\n",
      " array([1, 0, 0, 1, 0, 0, 0, 0, 1, 0])]\n",
      "[array([[17,  3, 19],\n",
      "       [ 8,  2,  2],\n",
      "       [ 2,  7,  8]]),\n",
      " array([[ 1,  0,  3,  4],\n",
      "       [12, 19,  2,  9],\n",
      "       [ 1,  5,  7, 19]]),\n",
      " array([[ 1,  0,  4],\n",
      "       [12, 19,  9],\n",
      "       [ 1,  5, 19]])]\n"
     ]
    }
   ],
   "source": [
    "#Example\n",
    "agents_ex,agentFIndex_ex,agentStatus_ex=agentsInitiation(x,3,3,5)\n",
    "pprint(agentFIndex_ex)\n",
    "pprint(agents_ex)"
   ]
  },
  {
   "cell_type": "code",
   "execution_count": 13,
   "metadata": {
    "collapsed": true
   },
   "outputs": [],
   "source": [
    "'''\n",
    "'Score' function fits each model to the agent's training data and then evaluates the score on test agent. \n",
    "The output is the average score of three estimators. Original paper used only one classifier to calculate score.\n",
    "Therefore, the resultant subset was very biased towards the signle estimator. \n",
    "To avoind this, we are using ensemble of classifiers.\n",
    "'''\n",
    "def score(estimators,arryX,arrY):\n",
    "        X_train,X_test,y_train,y_test=train_test_split(arryX,arrY,random_state=0)\n",
    "        for i in range(len(estimators)):\n",
    "            estimators[i].fit(X_train,y_train) #fitting the ith estimator to the training data of an agent\n",
    "            scores.append(estimators[i].score(X_test,y_test)) #evaluating the score on the test data\n",
    "        return sum(scores)/len(scores)"
   ]
  },
  {
   "cell_type": "code",
   "execution_count": 14,
   "metadata": {
    "collapsed": true
   },
   "outputs": [],
   "source": [
    "#below function calculates score for each agents and appends the score to the agentScores list\n",
    "def agentClfscores(estimators,agents,arrY):\n",
    "    agentScores=[]\n",
    "    for agent in agents:\n",
    "        agentscore=score(estimators,agent,arrY)\n",
    "        agentScores.append(agentScores)\n",
    "    return agentScores #returns a list that caputres agents' scores"
   ]
  },
  {
   "cell_type": "code",
   "execution_count": 20,
   "metadata": {
    "collapsed": true
   },
   "outputs": [],
   "source": [
    "'''\n",
    "Below function carries out test and diffusion phase among the agents initialized above. \n",
    "The function returns agents and their corresponding scores, binary feature arrays, and staus after numIterations\n",
    "'''\n",
    "\n",
    "def SDSFS(arryX,arrY,estimators,numIterations,numAgents,lowerLim,upperLim):\n",
    "    agents,agentFIndex,agentStatus=agentsInitiation(arryX,numAgents,lowerLim,upperLim)\n",
    "    agentScores=agentClfscores(estimators,agents,arrY)\n",
    "    niters=0\n",
    "    while niters<numIterations:\n",
    "        #testing phase\n",
    "        for i in range(len(agents)):\n",
    "            rndmId=np.random.randint(len(agents),size=1)[0]\n",
    "            if agentScores[i]>agentScores[rndmId]:\n",
    "                agentStatus[i]='active'\n",
    "                \n",
    "            else:\n",
    "                agentStatus[i]='inactive'\n",
    "                \n",
    "        #Diffusion phase    \n",
    "        for i in range(len(agents)):\n",
    "                if agentStatus[i]=='inactive':\n",
    "                    rndmId2=np.random.randint(len(agents),size=1)[0]\n",
    "                    if agentStatus[rndmId2]=='active':\n",
    "                        oneIds=np.where(agentFIndex[rndmId2]==1)[0]\n",
    "                        zeroIds=np.where(agentFIndex[rndmId2]==0)[0]\n",
    "                        rndmId3=np.random.randint(len(oneIds), size=1)\n",
    "                        rndmId4=np.random.randint(len(zeroIds), size=1)\n",
    "                        oneZeroId=oneIds[rndmId3]\n",
    "                        zeroOneId=zeroIds[rndmId4]\n",
    "                        agentFIndex[i]=agentFIndex[rndmId2].copy()\n",
    "                        agentFIndex[i][oneZeroId]=0\n",
    "                        agentFIndex[i][zeroOneId]=1\n",
    "                        fIndex2=np.where(agentFIndex[i]==1)[0]\n",
    "                        agents[i]=X[:,fIndex2]\n",
    "                        agentScores[i]=score(estimators,agents[i],arrY)\n",
    "                    else:\n",
    "                        agentFIndex[i],agents[i]=agent(arryX,lowerLim,upperLim)\n",
    "                        agentScores[i]=score(estimators,agents[i],arrY)\n",
    "                else:\n",
    "                    rndmId5=np.random.randint(len(agents),size=1)[0]\n",
    "                    if agentStatus[rndmId5]=='active' and (agentFIndex[i]==agentFIndex[rndmId5]).all():\n",
    "                        agentStatus[i]='inactive'\n",
    "                        agentFIndex[i],agents[i]=agent(arryX,lowerLim,upperLim)\n",
    "                        agentScores[i]=score(estimators,agents[i],arrY)\n",
    "        niters+=1\n",
    "    return agents,agentFIndex,agentStatus,agentScores\n",
    "    "
   ]
  },
  {
   "cell_type": "code",
   "execution_count": null,
   "metadata": {
    "collapsed": true
   },
   "outputs": [],
   "source": []
  }
 ],
 "metadata": {
  "kernelspec": {
   "display_name": "Python 3",
   "language": "python",
   "name": "python3"
  },
  "language_info": {
   "codemirror_mode": {
    "name": "ipython",
    "version": 3
   },
   "file_extension": ".py",
   "mimetype": "text/x-python",
   "name": "python",
   "nbconvert_exporter": "python",
   "pygments_lexer": "ipython3",
   "version": "3.6.2"
  }
 },
 "nbformat": 4,
 "nbformat_minor": 2
}
